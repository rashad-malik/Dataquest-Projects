{
 "cells": [
  {
   "cell_type": "markdown",
   "metadata": {},
   "source": [
    "# Guided Project: Mobile App for Lottery Addiction"
   ]
  },
  {
   "cell_type": "markdown",
   "metadata": {},
   "source": [
    "A medical institute that aims to prevent and treat gambling addictions wants to build a dedicated mobile app to help lottery addicts better estimate their chances of winning. The institute has a team of engineers that will build the app, but they need us to create the logical core of the app and calculate probabilities.\n",
    "\n",
    "For the first version of the app, they want us to focus on the [6/49 lottery](https://en.wikipedia.org/wiki/Lotto_6/49) and build functions that enable users to answer questions like:\n",
    "\n",
    "- What is the probability of winning the big prize with a single ticket?\n",
    "- What is the probability of winning the big prize if we play 40 different tickets (or any other number)?\n",
    "- What is the probability of having at least five (or four, or three, or two) winning numbers on a single ticket?"
   ]
  },
  {
   "cell_type": "markdown",
   "metadata": {},
   "source": [
    "The institute also wants us to consider historical data coming from the national 6/49 lottery game in Canada. [The data set](https://www.kaggle.com/datascienceai/lottery-dataset) has data for 3,665 drawings, dating from 1982 to 2018."
   ]
  },
  {
   "cell_type": "markdown",
   "metadata": {},
   "source": [
    "## Core Functions"
   ]
  },
  {
   "cell_type": "markdown",
   "metadata": {},
   "source": [
    "Throughout the project, we'll need to calculate repeatedly probabilities and combinations. As a consequence, we'll start by writing two functions that we'll use often:\n",
    "\n",
    "- A function that calculates factorials; and\n",
    "- A function that calculates combinations."
   ]
  },
  {
   "cell_type": "code",
   "execution_count": 1,
   "metadata": {
    "collapsed": true
   },
   "outputs": [],
   "source": [
    "# Writing a function for factorials\n",
    "def factorial(n):\n",
    "    final_product = 1\n",
    "    for i in range(n, 0, -1):\n",
    "        final_product *= i\n",
    "    return final_product"
   ]
  },
  {
   "cell_type": "code",
   "execution_count": 2,
   "metadata": {
    "collapsed": true
   },
   "outputs": [],
   "source": [
    "# Writing a function for combinations\n",
    "def combinations(n,k):\n",
    "    return factorial(n)/(factorial(k)*factorial(n-k))"
   ]
  },
  {
   "cell_type": "markdown",
   "metadata": {},
   "source": [
    "## One-ticket Probability"
   ]
  },
  {
   "cell_type": "markdown",
   "metadata": {},
   "source": [
    "We now focus on writing a function that calculates the probability of winning the big prize.\n",
    "\n",
    "For the first version of the app, we want players to be able to calculate the probability of winning the big prize with the various numbers they play on a single ticket (for each ticket a player chooses six numbers out of 49). So, we'll start by building a function that calculates the probability of winning the big prize for any given ticket.\n",
    "\n",
    "We discussed with the engineering team of the medical institute, and they told us we need to be aware of the following details when we write the function:\n",
    "\n",
    "- Inside the app, the user inputs six different numbers from 1 to 49.\n",
    "- Under the hood, the six numbers will come as a Python list, which will serve as the single input to our function.\n",
    "- The engineering team wants the function to print the probability value in a friendly way — in a way that people without any probability training are able to understand."
   ]
  },
  {
   "cell_type": "code",
   "execution_count": 3,
   "metadata": {
    "collapsed": true
   },
   "outputs": [],
   "source": [
    "# Writing the function\n",
    "def one_ticket_probability(l): # \"l\" being a list of six unique numbers\n",
    "    total_outcomes = combinations(49,len(l))\n",
    "    p_winning = 1 / total_outcomes\n",
    "    percent = p_winning * 100\n",
    "    return print(\"Your ticket numbers:\",l,\"\\n\",\n",
    "                 \"The probabilty of winning with your ticket is: {0:.8f}\". # Requires precision to print out the probability. Might need a better solution\n",
    "                 format(percent),\"%\")"
   ]
  },
  {
   "cell_type": "code",
   "execution_count": 4,
   "metadata": {
    "collapsed": false
   },
   "outputs": [
    {
     "name": "stdout",
     "output_type": "stream",
     "text": [
      "Your ticket numbers: [13, 22, 24, 27, 42, 44] \n",
      " The probabilty of winning with your ticket is: 0.00000715 %\n",
      "Your ticket numbers: [4, 8, 15, 16, 23, 42] \n",
      " The probabilty of winning with your ticket is: 0.00000715 %\n"
     ]
    }
   ],
   "source": [
    "# Testing the function\n",
    "test_ticket1 = [13, 22, 24, 27, 42, 44]\n",
    "test_ticket2 = [4, 8, 15, 16, 23, 42]\n",
    "one_ticket_probability(test_ticket1)\n",
    "one_ticket_probability(test_ticket2)"
   ]
  },
  {
   "cell_type": "markdown",
   "metadata": {},
   "source": [
    "## Historical Data Check for Canada Lottery"
   ]
  },
  {
   "cell_type": "markdown",
   "metadata": {},
   "source": [
    "For the first version of the app, users should also be able to compare their ticket against the historical lottery data in Canada and determine whether they would have ever won by now.\n",
    "\n",
    "We'll focus on exploring the historical data coming from the Canada 6/49 lottery."
   ]
  },
  {
   "cell_type": "code",
   "execution_count": 5,
   "metadata": {
    "collapsed": true
   },
   "outputs": [],
   "source": [
    "# Importing data set\n",
    "import pandas as pd\n",
    "hist = pd.read_csv(\"649.csv\")"
   ]
  },
  {
   "cell_type": "code",
   "execution_count": 6,
   "metadata": {
    "collapsed": false
   },
   "outputs": [
    {
     "name": "stdout",
     "output_type": "stream",
     "text": [
      "Rows: 3665 \n",
      " Columns: 11\n"
     ]
    }
   ],
   "source": [
    "# Checking number of rows and columns\n",
    "print(\"Rows:\",len(hist),\"\\n\",\"Columns:\",len(hist.columns))"
   ]
  },
  {
   "cell_type": "code",
   "execution_count": 7,
   "metadata": {
    "collapsed": false
   },
   "outputs": [
    {
     "name": "stdout",
     "output_type": "stream",
     "text": [
      "   PRODUCT  DRAW NUMBER  SEQUENCE NUMBER  DRAW DATE  NUMBER DRAWN 1  \\\n",
      "0      649            1                0  6/12/1982               3   \n",
      "1      649            2                0  6/19/1982               8   \n",
      "2      649            3                0  6/26/1982               1   \n",
      "\n",
      "   NUMBER DRAWN 2  NUMBER DRAWN 3  NUMBER DRAWN 4  NUMBER DRAWN 5  \\\n",
      "0              11              12              14              41   \n",
      "1              33              36              37              39   \n",
      "2               6              23              24              27   \n",
      "\n",
      "   NUMBER DRAWN 6  BONUS NUMBER  \n",
      "0              43            13  \n",
      "1              41             9  \n",
      "2              39            34   \n",
      "\n",
      "      PRODUCT  DRAW NUMBER  SEQUENCE NUMBER  DRAW DATE  NUMBER DRAWN 1  \\\n",
      "3662      649         3589                0  6/13/2018               6   \n",
      "3663      649         3590                0  6/16/2018               2   \n",
      "3664      649         3591                0  6/20/2018              14   \n",
      "\n",
      "      NUMBER DRAWN 2  NUMBER DRAWN 3  NUMBER DRAWN 4  NUMBER DRAWN 5  \\\n",
      "3662              22              24              31              32   \n",
      "3663              15              21              31              38   \n",
      "3664              24              31              35              37   \n",
      "\n",
      "      NUMBER DRAWN 6  BONUS NUMBER  \n",
      "3662              34            16  \n",
      "3663              49             8  \n",
      "3664              48            17  \n"
     ]
    }
   ],
   "source": [
    "# Checking first and last three rows\n",
    "print(hist.head(3),\"\\n\")\n",
    "print(hist.tail(3))"
   ]
  },
  {
   "cell_type": "markdown",
   "metadata": {},
   "source": [
    "## Function for Historical Data Check"
   ]
  },
  {
   "cell_type": "markdown",
   "metadata": {
    "collapsed": true
   },
   "source": [
    "We're going to write a function that will enable users to compare their ticket against the historical lottery data in Canada and determine whether they would have ever won by now.\n",
    "\n",
    "The engineering team told us that we need to be aware of the following details:\n",
    "- Inside the app, the user inputs six different numbers from 1 to 49.\n",
    "- Under the hood, the six numbers will come as a Python list and serve as an input to our function.\n",
    "- **The engineering team wants us to write a function that prints**:\n",
    "    - the number of times the combination selected occurred in the Canada data set; and\n",
    "    - the probability of winning the big prize in the next drawing with that combination.\n"
   ]
  },
  {
   "cell_type": "code",
   "execution_count": 8,
   "metadata": {
    "collapsed": false
   },
   "outputs": [
    {
     "name": "stdout",
     "output_type": "stream",
     "text": [
      "{3, 41, 43, 12, 11, 14}\n"
     ]
    }
   ],
   "source": [
    "# Extracting all winning six numbers from historical data set as Python sets\n",
    "def extract_numbers(row):\n",
    "    first   = hist[\"NUMBER DRAWN 1\"][row-1]\n",
    "    second  = hist[\"NUMBER DRAWN 2\"][row-1]\n",
    "    third   = hist[\"NUMBER DRAWN 3\"][row-1]\n",
    "    fourth  = hist[\"NUMBER DRAWN 4\"][row-1]\n",
    "    fifth   = hist[\"NUMBER DRAWN 5\"][row-1]\n",
    "    sixth   = hist[\"NUMBER DRAWN 6\"][row-1]\n",
    "    numbers = {first, second, third, fourth, fifth, sixth}\n",
    "    return numbers\n",
    "\n",
    "# Testing function\n",
    "print(extract_numbers(1))"
   ]
  },
  {
   "cell_type": "code",
   "execution_count": 9,
   "metadata": {
    "collapsed": false
   },
   "outputs": [],
   "source": [
    "# Extracting all the winning numbers\n",
    "winning_numbers = []\n",
    "for i in range(1,3666):\n",
    "    number = extract_numbers(i)\n",
    "    winning_numbers.append(number)\n",
    "#winning_numbers = pd.DataFrame(winning_numbers)"
   ]
  },
  {
   "cell_type": "code",
   "execution_count": 10,
   "metadata": {
    "collapsed": false
   },
   "outputs": [
    {
     "name": "stdout",
     "output_type": "stream",
     "text": [
      "{3, 41, 43, 12, 11, 14}\n",
      "[{35, 37, 14, 48, 24, 31}]\n"
     ]
    }
   ],
   "source": [
    "# Checking extraction\n",
    "print(winning_numbers[0])\n",
    "print(winning_numbers[-1:])"
   ]
  },
  {
   "cell_type": "code",
   "execution_count": 11,
   "metadata": {
    "collapsed": false
   },
   "outputs": [],
   "source": [
    "# Writing a function to check historical occurances\n",
    "def check_historical_occurence(user):\n",
    "    user_set = set(user)\n",
    "    return one_ticket_probability(user),print(\"The number of times this ticket combination appeared in the past:\",\n",
    "                 winning_numbers.count(user_set),\"\\n\")"
   ]
  },
  {
   "cell_type": "code",
   "execution_count": 12,
   "metadata": {
    "collapsed": false
   },
   "outputs": [
    {
     "name": "stdout",
     "output_type": "stream",
     "text": [
      "Your ticket numbers: [13, 22, 24, 27, 42, 44] \n",
      " The probabilty of winning with your ticket is: 0.00000715 %\n",
      "The number of times this ticket combination appeared in the past: 0 \n",
      "\n",
      "Your ticket numbers: [4, 8, 15, 16, 23, 42] \n",
      " The probabilty of winning with your ticket is: 0.00000715 %\n",
      "The number of times this ticket combination appeared in the past: 0 \n",
      "\n",
      "Your ticket numbers: [35, 37, 14, 48, 24, 31] \n",
      " The probabilty of winning with your ticket is: 0.00000715 %\n",
      "The number of times this ticket combination appeared in the past: 1 \n",
      "\n"
     ]
    },
    {
     "data": {
      "text/plain": [
       "(None, None)"
      ]
     },
     "execution_count": 12,
     "metadata": {},
     "output_type": "execute_result"
    }
   ],
   "source": [
    "# Testing historical occurances function\n",
    "check_historical_occurence(test_ticket1)\n",
    "check_historical_occurence(test_ticket2)\n",
    "check_historical_occurence([35, 37, 14, 48, 24, 31]) # Last ticket in data set"
   ]
  },
  {
   "cell_type": "markdown",
   "metadata": {},
   "source": [
    "## Multi-ticket Probability"
   ]
  },
  {
   "cell_type": "markdown",
   "metadata": {
    "collapsed": true
   },
   "source": [
    "We're going to write a function that will allow the users to calculate the chances of winning for any number of different tickets.\n",
    "\n",
    "We've talked with the engineering team and they gave us the following information:\n",
    "- The user will input the number of different tickets they want to play (without inputting the specific combinations they intend to play).\n",
    "- Our function will see an integer between 1 and 13,983,816 (the maximum number of different tickets).\n",
    "- The function should print information about the probability of winning the big prize depending on the number of different tickets played.\n"
   ]
  },
  {
   "cell_type": "code",
   "execution_count": 13,
   "metadata": {
    "collapsed": true
   },
   "outputs": [],
   "source": [
    "# Writing the multi-ticket probability function\n",
    "def multi_ticket_probability(n): # n is the number of tickets the user intends to play\n",
    "    total_outcomes = combinations(49,6)\n",
    "    probability = (n / total_outcomes)*100 # Multiplied by 100 for percentage\n",
    "    return print(\"The probabilty of winning with\",n,\"ticket(s) is: {0:.8f}\". # Requires precision to print out the probability. Might need a better solution\n",
    "                 format(probability),\"%\")"
   ]
  },
  {
   "cell_type": "code",
   "execution_count": 14,
   "metadata": {
    "collapsed": false
   },
   "outputs": [
    {
     "name": "stdout",
     "output_type": "stream",
     "text": [
      "The probabilty of winning with 1 ticket(s) is: 0.00000715 %\n",
      "The probabilty of winning with 10 ticket(s) is: 0.00007151 %\n",
      "The probabilty of winning with 100 ticket(s) is: 0.00071511 %\n",
      "The probabilty of winning with 10000 ticket(s) is: 0.07151124 %\n",
      "The probabilty of winning with 1000000 ticket(s) is: 7.15112384 %\n",
      "The probabilty of winning with 6991908 ticket(s) is: 50.00000000 %\n",
      "The probabilty of winning with 13983816 ticket(s) is: 100.00000000 %\n"
     ]
    }
   ],
   "source": [
    "# Testing the function\n",
    "test_inputs = [1, 10, 100, 10000, 1000000, 6991908, 13983816]\n",
    "for i in test_inputs:\n",
    "    multi_ticket_probability(i)"
   ]
  },
  {
   "cell_type": "markdown",
   "metadata": {},
   "source": [
    "## Less Winning Numbers — Function"
   ]
  },
  {
   "cell_type": "markdown",
   "metadata": {},
   "source": [
    "We're going to write one more function to allow the users to calculate probabilities for two, three, four, or five winning numbers.\n",
    "\n",
    "These are the engineering details we'll need to be aware of:\n",
    "- Inside the app, the user inputs:\n",
    "    - six different numbers from 1 to 49; and\n",
    "    - an integer between 2 and 5 that represents the number of winning numbers expected\n",
    "- Our function prints information about the probability of having the inputted number of winning numbers.\n"
   ]
  },
  {
   "cell_type": "code",
   "execution_count": 15,
   "metadata": {
    "collapsed": true
   },
   "outputs": [],
   "source": [
    "# Writing the probability function\n",
    "def probability_less_6(integer):\n",
    "    successful_outcomes = combinations(6,integer)*combinations(43, 6 - integer)\n",
    "    total_outcomes = combinations(49,6)\n",
    "    probability = (successful_outcomes / total_outcomes)*100\n",
    "    return print(\"The probabilty of\",integer,\"winning numbers is: {0:.8f}\". # Requires precision to print out the probability. Might need a better solution\n",
    "                 format(probability),\"%\")"
   ]
  },
  {
   "cell_type": "code",
   "execution_count": 16,
   "metadata": {
    "collapsed": false
   },
   "outputs": [
    {
     "name": "stdout",
     "output_type": "stream",
     "text": [
      "The probabilty of 2 winning numbers is: 13.23780290 %\n",
      "The probabilty of 3 winning numbers is: 1.76504039 %\n",
      "The probabilty of 4 winning numbers is: 0.09686197 %\n",
      "The probabilty of 5 winning numbers is: 0.00184499 %\n"
     ]
    }
   ],
   "source": [
    "# Testing the function\n",
    "for i in range(2,6):\n",
    "    probability_less_6(i)"
   ]
  },
  {
   "cell_type": "markdown",
   "metadata": {},
   "source": [
    "We managed to write four main functions for our app:\n",
    "\n",
    "- one_ticket_probability() — calculates the probability of winning the big prize with a single ticket\n",
    "- check_historical_occurrence() — checks whether a certain combination has occurred in the Canada lottery data set\n",
    "- multi_ticket_probability() — calculates the probability for any number of of tickets between 1 and 13,983,816\n",
    "- probability_less_6() — calculates the probability of having two, three, four or five winning numbers"
   ]
  },
  {
   "cell_type": "code",
   "execution_count": null,
   "metadata": {
    "collapsed": true
   },
   "outputs": [],
   "source": []
  }
 ],
 "metadata": {
  "kernelspec": {
   "display_name": "Python 3",
   "language": "python",
   "name": "python3"
  },
  "language_info": {
   "codemirror_mode": {
    "name": "ipython",
    "version": 3
   },
   "file_extension": ".py",
   "mimetype": "text/x-python",
   "name": "python",
   "nbconvert_exporter": "python",
   "pygments_lexer": "ipython3",
   "version": "3.4.3"
  }
 },
 "nbformat": 4,
 "nbformat_minor": 2
}

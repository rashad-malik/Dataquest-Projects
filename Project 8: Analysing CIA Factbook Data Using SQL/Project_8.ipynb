{
 "cells": [
  {
   "cell_type": "markdown",
   "metadata": {
    "collapsed": true
   },
   "source": [
    "# Guided Project: Analyzing CIA Factbook Data Using SQL"
   ]
  },
  {
   "cell_type": "code",
   "execution_count": 1,
   "metadata": {
    "collapsed": false
   },
   "outputs": [
    {
     "name": "stdout",
     "output_type": "stream",
     "text": [
      "/bin/sh: 1: conda: not found\r\n"
     ]
    }
   ],
   "source": [
    "# Activating ipython-sql\n",
    "!conda install -yc conda-forge ipython-sql"
   ]
  },
  {
   "cell_type": "markdown",
   "metadata": {},
   "source": [
    "## Introduction"
   ]
  },
  {
   "cell_type": "markdown",
   "metadata": {},
   "source": [
    "In this project, we'll work with data from the [CIA World Factbook](https://www.cia.gov/the-world-factbook/), a compendium of statistics about all of the countries on Earth.\n",
    "\n",
    "First step is to connect to the database:"
   ]
  },
  {
   "cell_type": "code",
   "execution_count": 2,
   "metadata": {
    "collapsed": false
   },
   "outputs": [
    {
     "data": {
      "text/plain": [
       "'Connected: None@factbook.db'"
      ]
     },
     "execution_count": 2,
     "metadata": {},
     "output_type": "execute_result"
    }
   ],
   "source": [
    "%%capture\n",
    "%load_ext sql\n",
    "%sql sqlite:///factbook.db"
   ]
  },
  {
   "cell_type": "markdown",
   "metadata": {},
   "source": [
    "## Overview of the Data"
   ]
  },
  {
   "cell_type": "code",
   "execution_count": 3,
   "metadata": {
    "collapsed": false
   },
   "outputs": [
    {
     "name": "stdout",
     "output_type": "stream",
     "text": [
      "Done.\n"
     ]
    },
    {
     "data": {
      "text/html": [
       "<table>\n",
       "    <tr>\n",
       "        <th>type</th>\n",
       "        <th>name</th>\n",
       "        <th>tbl_name</th>\n",
       "        <th>rootpage</th>\n",
       "        <th>sql</th>\n",
       "    </tr>\n",
       "    <tr>\n",
       "        <td>table</td>\n",
       "        <td>sqlite_sequence</td>\n",
       "        <td>sqlite_sequence</td>\n",
       "        <td>3</td>\n",
       "        <td>CREATE TABLE sqlite_sequence(name,seq)</td>\n",
       "    </tr>\n",
       "    <tr>\n",
       "        <td>table</td>\n",
       "        <td>facts</td>\n",
       "        <td>facts</td>\n",
       "        <td>47</td>\n",
       "        <td>CREATE TABLE &quot;facts&quot; (&quot;id&quot; INTEGER PRIMARY KEY AUTOINCREMENT NOT NULL, &quot;code&quot; varchar(255) NOT NULL, &quot;name&quot; varchar(255) NOT NULL, &quot;area&quot; integer, &quot;area_land&quot; integer, &quot;area_water&quot; integer, &quot;population&quot; integer, &quot;population_growth&quot; float, &quot;birth_rate&quot; float, &quot;death_rate&quot; float, &quot;migration_rate&quot; float)</td>\n",
       "    </tr>\n",
       "</table>"
      ],
      "text/plain": [
       "[('table', 'sqlite_sequence', 'sqlite_sequence', 3, 'CREATE TABLE sqlite_sequence(name,seq)'),\n",
       " ('table', 'facts', 'facts', 47, 'CREATE TABLE \"facts\" (\"id\" INTEGER PRIMARY KEY AUTOINCREMENT NOT NULL, \"code\" varchar(255) NOT NULL, \"name\" varchar(255) NOT NULL, \"area\" integer, \"a ... (4 characters truncated) ... land\" integer, \"area_water\" integer, \"population\" integer, \"population_growth\" float, \"birth_rate\" float, \"death_rate\" float, \"migration_rate\" float)')]"
      ]
     },
     "execution_count": 3,
     "metadata": {},
     "output_type": "execute_result"
    }
   ],
   "source": [
    "%%sql\n",
    "SELECT *\n",
    "  FROM sqlite_master\n",
    " WHERE type='table';"
   ]
  },
  {
   "cell_type": "markdown",
   "metadata": {},
   "source": [
    "Query that returns the first five rows of the facts table in the database:"
   ]
  },
  {
   "cell_type": "code",
   "execution_count": 4,
   "metadata": {
    "collapsed": false
   },
   "outputs": [
    {
     "name": "stdout",
     "output_type": "stream",
     "text": [
      "Done.\n"
     ]
    },
    {
     "data": {
      "text/html": [
       "<table>\n",
       "    <tr>\n",
       "        <th>id</th>\n",
       "        <th>code</th>\n",
       "        <th>name</th>\n",
       "        <th>area</th>\n",
       "        <th>area_land</th>\n",
       "        <th>area_water</th>\n",
       "        <th>population</th>\n",
       "        <th>population_growth</th>\n",
       "        <th>birth_rate</th>\n",
       "        <th>death_rate</th>\n",
       "        <th>migration_rate</th>\n",
       "    </tr>\n",
       "    <tr>\n",
       "        <td>1</td>\n",
       "        <td>af</td>\n",
       "        <td>Afghanistan</td>\n",
       "        <td>652230</td>\n",
       "        <td>652230</td>\n",
       "        <td>0</td>\n",
       "        <td>32564342</td>\n",
       "        <td>2.32</td>\n",
       "        <td>38.57</td>\n",
       "        <td>13.89</td>\n",
       "        <td>1.51</td>\n",
       "    </tr>\n",
       "    <tr>\n",
       "        <td>2</td>\n",
       "        <td>al</td>\n",
       "        <td>Albania</td>\n",
       "        <td>28748</td>\n",
       "        <td>27398</td>\n",
       "        <td>1350</td>\n",
       "        <td>3029278</td>\n",
       "        <td>0.3</td>\n",
       "        <td>12.92</td>\n",
       "        <td>6.58</td>\n",
       "        <td>3.3</td>\n",
       "    </tr>\n",
       "    <tr>\n",
       "        <td>3</td>\n",
       "        <td>ag</td>\n",
       "        <td>Algeria</td>\n",
       "        <td>2381741</td>\n",
       "        <td>2381741</td>\n",
       "        <td>0</td>\n",
       "        <td>39542166</td>\n",
       "        <td>1.84</td>\n",
       "        <td>23.67</td>\n",
       "        <td>4.31</td>\n",
       "        <td>0.92</td>\n",
       "    </tr>\n",
       "    <tr>\n",
       "        <td>4</td>\n",
       "        <td>an</td>\n",
       "        <td>Andorra</td>\n",
       "        <td>468</td>\n",
       "        <td>468</td>\n",
       "        <td>0</td>\n",
       "        <td>85580</td>\n",
       "        <td>0.12</td>\n",
       "        <td>8.13</td>\n",
       "        <td>6.96</td>\n",
       "        <td>0.0</td>\n",
       "    </tr>\n",
       "    <tr>\n",
       "        <td>5</td>\n",
       "        <td>ao</td>\n",
       "        <td>Angola</td>\n",
       "        <td>1246700</td>\n",
       "        <td>1246700</td>\n",
       "        <td>0</td>\n",
       "        <td>19625353</td>\n",
       "        <td>2.78</td>\n",
       "        <td>38.78</td>\n",
       "        <td>11.49</td>\n",
       "        <td>0.46</td>\n",
       "    </tr>\n",
       "</table>"
      ],
      "text/plain": [
       "[(1, 'af', 'Afghanistan', 652230, 652230, 0, 32564342, 2.32, 38.57, 13.89, 1.51),\n",
       " (2, 'al', 'Albania', 28748, 27398, 1350, 3029278, 0.3, 12.92, 6.58, 3.3),\n",
       " (3, 'ag', 'Algeria', 2381741, 2381741, 0, 39542166, 1.84, 23.67, 4.31, 0.92),\n",
       " (4, 'an', 'Andorra', 468, 468, 0, 85580, 0.12, 8.13, 6.96, 0.0),\n",
       " (5, 'ao', 'Angola', 1246700, 1246700, 0, 19625353, 2.78, 38.78, 11.49, 0.46)]"
      ]
     },
     "execution_count": 4,
     "metadata": {},
     "output_type": "execute_result"
    }
   ],
   "source": [
    "%%sql\n",
    "SELECT *\n",
    "    FROM facts\n",
    "    LIMIT 5;"
   ]
  },
  {
   "cell_type": "markdown",
   "metadata": {},
   "source": [
    "## Summary Statistics"
   ]
  },
  {
   "cell_type": "markdown",
   "metadata": {},
   "source": [
    "Writing a single query that returns the following:\n",
    "\n",
    "- Minimum population\n",
    "- Maximum population\n",
    "- Minimum population growth\n",
    "- Maximum population growth"
   ]
  },
  {
   "cell_type": "code",
   "execution_count": 5,
   "metadata": {
    "collapsed": false
   },
   "outputs": [
    {
     "name": "stdout",
     "output_type": "stream",
     "text": [
      "Done.\n"
     ]
    },
    {
     "data": {
      "text/html": [
       "<table>\n",
       "    <tr>\n",
       "        <th>minimum_pop</th>\n",
       "        <th>maximum_pop</th>\n",
       "        <th>min_pop_growth</th>\n",
       "        <th>max_pop_growth</th>\n",
       "    </tr>\n",
       "    <tr>\n",
       "        <td>0</td>\n",
       "        <td>7256490011</td>\n",
       "        <td>0.0</td>\n",
       "        <td>4.02</td>\n",
       "    </tr>\n",
       "</table>"
      ],
      "text/plain": [
       "[(0, 7256490011, 0.0, 4.02)]"
      ]
     },
     "execution_count": 5,
     "metadata": {},
     "output_type": "execute_result"
    }
   ],
   "source": [
    "%%sql\n",
    "SELECT  MIN(population) AS minimum_pop,\n",
    "        MAX(population) AS maximum_pop,\n",
    "        MIN(population_growth) AS min_pop_growth,\n",
    "        MAX(population_growth) AS max_pop_growth\n",
    "    FROM facts;"
   ]
  },
  {
   "cell_type": "markdown",
   "metadata": {},
   "source": [
    "## Exploring Outliers"
   ]
  },
  {
   "cell_type": "markdown",
   "metadata": {},
   "source": [
    "Writing a query that returns the countries with the minimum population."
   ]
  },
  {
   "cell_type": "code",
   "execution_count": 6,
   "metadata": {
    "collapsed": false
   },
   "outputs": [
    {
     "name": "stdout",
     "output_type": "stream",
     "text": [
      "Done.\n"
     ]
    },
    {
     "data": {
      "text/html": [
       "<table>\n",
       "    <tr>\n",
       "        <th>id</th>\n",
       "        <th>code</th>\n",
       "        <th>name</th>\n",
       "        <th>area</th>\n",
       "        <th>area_land</th>\n",
       "        <th>area_water</th>\n",
       "        <th>population</th>\n",
       "        <th>population_growth</th>\n",
       "        <th>birth_rate</th>\n",
       "        <th>death_rate</th>\n",
       "        <th>migration_rate</th>\n",
       "    </tr>\n",
       "    <tr>\n",
       "        <td>250</td>\n",
       "        <td>ay</td>\n",
       "        <td>Antarctica</td>\n",
       "        <td>None</td>\n",
       "        <td>280000</td>\n",
       "        <td>None</td>\n",
       "        <td>0</td>\n",
       "        <td>None</td>\n",
       "        <td>None</td>\n",
       "        <td>None</td>\n",
       "        <td>None</td>\n",
       "    </tr>\n",
       "</table>"
      ],
      "text/plain": [
       "[(250, 'ay', 'Antarctica', None, 280000, None, 0, None, None, None, None)]"
      ]
     },
     "execution_count": 6,
     "metadata": {},
     "output_type": "execute_result"
    }
   ],
   "source": [
    "%%sql\n",
    "SELECT *\n",
    "    FROM facts\n",
    "    WHERE population = (SELECT MIN(population)\n",
    "    FROM facts);"
   ]
  },
  {
   "cell_type": "markdown",
   "metadata": {},
   "source": [
    "Writing a query that returns the countries with the maximum population."
   ]
  },
  {
   "cell_type": "code",
   "execution_count": 7,
   "metadata": {
    "collapsed": false
   },
   "outputs": [
    {
     "name": "stdout",
     "output_type": "stream",
     "text": [
      "Done.\n"
     ]
    },
    {
     "data": {
      "text/html": [
       "<table>\n",
       "    <tr>\n",
       "        <th>id</th>\n",
       "        <th>code</th>\n",
       "        <th>name</th>\n",
       "        <th>area</th>\n",
       "        <th>area_land</th>\n",
       "        <th>area_water</th>\n",
       "        <th>population</th>\n",
       "        <th>population_growth</th>\n",
       "        <th>birth_rate</th>\n",
       "        <th>death_rate</th>\n",
       "        <th>migration_rate</th>\n",
       "    </tr>\n",
       "    <tr>\n",
       "        <td>261</td>\n",
       "        <td>xx</td>\n",
       "        <td>World</td>\n",
       "        <td>None</td>\n",
       "        <td>None</td>\n",
       "        <td>None</td>\n",
       "        <td>7256490011</td>\n",
       "        <td>1.08</td>\n",
       "        <td>18.6</td>\n",
       "        <td>7.8</td>\n",
       "        <td>None</td>\n",
       "    </tr>\n",
       "</table>"
      ],
      "text/plain": [
       "[(261, 'xx', 'World', None, None, None, 7256490011, 1.08, 18.6, 7.8, None)]"
      ]
     },
     "execution_count": 7,
     "metadata": {},
     "output_type": "execute_result"
    }
   ],
   "source": [
    "%%sql\n",
    "SELECT *\n",
    "    FROM facts\n",
    "    WHERE population = (SELECT MAX(population)\n",
    "    FROM facts);"
   ]
  },
  {
   "cell_type": "markdown",
   "metadata": {},
   "source": [
    "## Exploring Average Population and Area"
   ]
  },
  {
   "cell_type": "markdown",
   "metadata": {},
   "source": [
    "Recomputing the summary statistics found earlier while excluding the row for the whole world. IncludING the following:\n",
    "\n",
    "- Minimum population\n",
    "- Maximum population\n",
    "- Minimum population growth\n",
    "- Maximum population growth"
   ]
  },
  {
   "cell_type": "code",
   "execution_count": 8,
   "metadata": {
    "collapsed": false
   },
   "outputs": [
    {
     "name": "stdout",
     "output_type": "stream",
     "text": [
      "Done.\n"
     ]
    },
    {
     "data": {
      "text/html": [
       "<table>\n",
       "    <tr>\n",
       "        <th>minimum_pop</th>\n",
       "        <th>maximum_pop</th>\n",
       "        <th>min_pop_growth</th>\n",
       "        <th>max_pop_growth</th>\n",
       "    </tr>\n",
       "    <tr>\n",
       "        <td>0</td>\n",
       "        <td>1367485388</td>\n",
       "        <td>0.0</td>\n",
       "        <td>4.02</td>\n",
       "    </tr>\n",
       "</table>"
      ],
      "text/plain": [
       "[(0, 1367485388, 0.0, 4.02)]"
      ]
     },
     "execution_count": 8,
     "metadata": {},
     "output_type": "execute_result"
    }
   ],
   "source": [
    "%%sql\n",
    "SELECT  MIN(population) AS minimum_pop,\n",
    "        MAX(population) AS maximum_pop,\n",
    "        MIN(population_growth) AS min_pop_growth,\n",
    "        MAX(population_growth) AS max_pop_growth\n",
    "    FROM facts\n",
    "    WHERE name <> \"World\";"
   ]
  },
  {
   "cell_type": "markdown",
   "metadata": {},
   "source": [
    "Calculating the average value for the following columns:\n",
    "- Population\n",
    "- Area"
   ]
  },
  {
   "cell_type": "code",
   "execution_count": 9,
   "metadata": {
    "collapsed": false
   },
   "outputs": [
    {
     "name": "stdout",
     "output_type": "stream",
     "text": [
      "Done.\n"
     ]
    },
    {
     "data": {
      "text/html": [
       "<table>\n",
       "    <tr>\n",
       "        <th>avg_population</th>\n",
       "        <th>avg_area</th>\n",
       "    </tr>\n",
       "    <tr>\n",
       "        <td>32242666.56846473</td>\n",
       "        <td>555093.546184739</td>\n",
       "    </tr>\n",
       "</table>"
      ],
      "text/plain": [
       "[(32242666.56846473, 555093.546184739)]"
      ]
     },
     "execution_count": 9,
     "metadata": {},
     "output_type": "execute_result"
    }
   ],
   "source": [
    "%%sql\n",
    "SELECT  AVG(population) AS avg_population,\n",
    "        AVG(area) AS avg_area\n",
    "    FROM facts\n",
    "    WHERE name <> 'World';"
   ]
  },
  {
   "cell_type": "markdown",
   "metadata": {},
   "source": [
    "## Finding Densely Populated Countries"
   ]
  },
  {
   "cell_type": "markdown",
   "metadata": {},
   "source": [
    "Writing a query that finds all countries meeting both of the following criteria:\n",
    "- The population is above average.\n",
    "- The area is below average."
   ]
  },
  {
   "cell_type": "code",
   "execution_count": 10,
   "metadata": {
    "collapsed": false
   },
   "outputs": [
    {
     "name": "stdout",
     "output_type": "stream",
     "text": [
      "Done.\n"
     ]
    },
    {
     "data": {
      "text/html": [
       "<table>\n",
       "    <tr>\n",
       "        <th>id</th>\n",
       "        <th>code</th>\n",
       "        <th>name</th>\n",
       "        <th>area</th>\n",
       "        <th>area_land</th>\n",
       "        <th>area_water</th>\n",
       "        <th>population</th>\n",
       "        <th>population_growth</th>\n",
       "        <th>birth_rate</th>\n",
       "        <th>death_rate</th>\n",
       "        <th>migration_rate</th>\n",
       "    </tr>\n",
       "    <tr>\n",
       "        <td>1</td>\n",
       "        <td>af</td>\n",
       "        <td>Afghanistan</td>\n",
       "        <td>652230</td>\n",
       "        <td>652230</td>\n",
       "        <td>0</td>\n",
       "        <td>32564342</td>\n",
       "        <td>2.32</td>\n",
       "        <td>38.57</td>\n",
       "        <td>13.89</td>\n",
       "        <td>1.51</td>\n",
       "    </tr>\n",
       "    <tr>\n",
       "        <td>3</td>\n",
       "        <td>ag</td>\n",
       "        <td>Algeria</td>\n",
       "        <td>2381741</td>\n",
       "        <td>2381741</td>\n",
       "        <td>0</td>\n",
       "        <td>39542166</td>\n",
       "        <td>1.84</td>\n",
       "        <td>23.67</td>\n",
       "        <td>4.31</td>\n",
       "        <td>0.92</td>\n",
       "    </tr>\n",
       "    <tr>\n",
       "        <td>7</td>\n",
       "        <td>ar</td>\n",
       "        <td>Argentina</td>\n",
       "        <td>2780400</td>\n",
       "        <td>2736690</td>\n",
       "        <td>43710</td>\n",
       "        <td>43431886</td>\n",
       "        <td>0.93</td>\n",
       "        <td>16.64</td>\n",
       "        <td>7.33</td>\n",
       "        <td>0.0</td>\n",
       "    </tr>\n",
       "    <tr>\n",
       "        <td>14</td>\n",
       "        <td>bg</td>\n",
       "        <td>Bangladesh</td>\n",
       "        <td>148460</td>\n",
       "        <td>130170</td>\n",
       "        <td>18290</td>\n",
       "        <td>168957745</td>\n",
       "        <td>1.6</td>\n",
       "        <td>21.14</td>\n",
       "        <td>5.61</td>\n",
       "        <td>0.46</td>\n",
       "    </tr>\n",
       "    <tr>\n",
       "        <td>24</td>\n",
       "        <td>br</td>\n",
       "        <td>Brazil</td>\n",
       "        <td>8515770</td>\n",
       "        <td>8358140</td>\n",
       "        <td>157630</td>\n",
       "        <td>204259812</td>\n",
       "        <td>0.77</td>\n",
       "        <td>14.46</td>\n",
       "        <td>6.58</td>\n",
       "        <td>0.14</td>\n",
       "    </tr>\n",
       "    <tr>\n",
       "        <td>28</td>\n",
       "        <td>bm</td>\n",
       "        <td>Burma</td>\n",
       "        <td>676578</td>\n",
       "        <td>653508</td>\n",
       "        <td>23070</td>\n",
       "        <td>56320206</td>\n",
       "        <td>1.01</td>\n",
       "        <td>18.39</td>\n",
       "        <td>7.96</td>\n",
       "        <td>0.28</td>\n",
       "    </tr>\n",
       "    <tr>\n",
       "        <td>32</td>\n",
       "        <td>ca</td>\n",
       "        <td>Canada</td>\n",
       "        <td>9984670</td>\n",
       "        <td>9093507</td>\n",
       "        <td>891163</td>\n",
       "        <td>35099836</td>\n",
       "        <td>0.75</td>\n",
       "        <td>10.28</td>\n",
       "        <td>8.42</td>\n",
       "        <td>5.66</td>\n",
       "    </tr>\n",
       "    <tr>\n",
       "        <td>37</td>\n",
       "        <td>ch</td>\n",
       "        <td>China</td>\n",
       "        <td>9596960</td>\n",
       "        <td>9326410</td>\n",
       "        <td>270550</td>\n",
       "        <td>1367485388</td>\n",
       "        <td>0.45</td>\n",
       "        <td>12.49</td>\n",
       "        <td>7.53</td>\n",
       "        <td>0.44</td>\n",
       "    </tr>\n",
       "    <tr>\n",
       "        <td>38</td>\n",
       "        <td>co</td>\n",
       "        <td>Colombia</td>\n",
       "        <td>1138910</td>\n",
       "        <td>1038700</td>\n",
       "        <td>100210</td>\n",
       "        <td>46736728</td>\n",
       "        <td>1.04</td>\n",
       "        <td>16.47</td>\n",
       "        <td>5.4</td>\n",
       "        <td>0.64</td>\n",
       "    </tr>\n",
       "    <tr>\n",
       "        <td>40</td>\n",
       "        <td>cg</td>\n",
       "        <td>Congo, Democratic Republic of the</td>\n",
       "        <td>2344858</td>\n",
       "        <td>2267048</td>\n",
       "        <td>77810</td>\n",
       "        <td>79375136</td>\n",
       "        <td>2.45</td>\n",
       "        <td>34.88</td>\n",
       "        <td>10.07</td>\n",
       "        <td>0.27</td>\n",
       "    </tr>\n",
       "    <tr>\n",
       "        <td>53</td>\n",
       "        <td>eg</td>\n",
       "        <td>Egypt</td>\n",
       "        <td>1001450</td>\n",
       "        <td>995450</td>\n",
       "        <td>6000</td>\n",
       "        <td>88487396</td>\n",
       "        <td>1.79</td>\n",
       "        <td>22.9</td>\n",
       "        <td>4.77</td>\n",
       "        <td>0.19</td>\n",
       "    </tr>\n",
       "    <tr>\n",
       "        <td>58</td>\n",
       "        <td>et</td>\n",
       "        <td>Ethiopia</td>\n",
       "        <td>1104300</td>\n",
       "        <td>None</td>\n",
       "        <td>104300</td>\n",
       "        <td>99465819</td>\n",
       "        <td>2.89</td>\n",
       "        <td>37.27</td>\n",
       "        <td>8.19</td>\n",
       "        <td>0.22</td>\n",
       "    </tr>\n",
       "    <tr>\n",
       "        <td>61</td>\n",
       "        <td>fr</td>\n",
       "        <td>France</td>\n",
       "        <td>643801</td>\n",
       "        <td>640427</td>\n",
       "        <td>3374</td>\n",
       "        <td>66553766</td>\n",
       "        <td>0.43</td>\n",
       "        <td>12.38</td>\n",
       "        <td>9.16</td>\n",
       "        <td>1.09</td>\n",
       "    </tr>\n",
       "    <tr>\n",
       "        <td>65</td>\n",
       "        <td>gm</td>\n",
       "        <td>Germany</td>\n",
       "        <td>357022</td>\n",
       "        <td>348672</td>\n",
       "        <td>8350</td>\n",
       "        <td>80854408</td>\n",
       "        <td>0.17</td>\n",
       "        <td>8.47</td>\n",
       "        <td>11.42</td>\n",
       "        <td>1.24</td>\n",
       "    </tr>\n",
       "    <tr>\n",
       "        <td>77</td>\n",
       "        <td>in</td>\n",
       "        <td>India</td>\n",
       "        <td>3287263</td>\n",
       "        <td>2973193</td>\n",
       "        <td>314070</td>\n",
       "        <td>1251695584</td>\n",
       "        <td>1.22</td>\n",
       "        <td>19.55</td>\n",
       "        <td>7.32</td>\n",
       "        <td>0.04</td>\n",
       "    </tr>\n",
       "    <tr>\n",
       "        <td>78</td>\n",
       "        <td>id</td>\n",
       "        <td>Indonesia</td>\n",
       "        <td>1904569</td>\n",
       "        <td>1811569</td>\n",
       "        <td>93000</td>\n",
       "        <td>255993674</td>\n",
       "        <td>0.92</td>\n",
       "        <td>16.72</td>\n",
       "        <td>6.37</td>\n",
       "        <td>1.16</td>\n",
       "    </tr>\n",
       "    <tr>\n",
       "        <td>79</td>\n",
       "        <td>ir</td>\n",
       "        <td>Iran</td>\n",
       "        <td>1648195</td>\n",
       "        <td>1531595</td>\n",
       "        <td>116600</td>\n",
       "        <td>81824270</td>\n",
       "        <td>1.2</td>\n",
       "        <td>17.99</td>\n",
       "        <td>5.94</td>\n",
       "        <td>0.07</td>\n",
       "    </tr>\n",
       "    <tr>\n",
       "        <td>80</td>\n",
       "        <td>iz</td>\n",
       "        <td>Iraq</td>\n",
       "        <td>438317</td>\n",
       "        <td>437367</td>\n",
       "        <td>950</td>\n",
       "        <td>37056169</td>\n",
       "        <td>2.93</td>\n",
       "        <td>31.45</td>\n",
       "        <td>3.77</td>\n",
       "        <td>1.62</td>\n",
       "    </tr>\n",
       "    <tr>\n",
       "        <td>83</td>\n",
       "        <td>it</td>\n",
       "        <td>Italy</td>\n",
       "        <td>301340</td>\n",
       "        <td>294140</td>\n",
       "        <td>7200</td>\n",
       "        <td>61855120</td>\n",
       "        <td>0.27</td>\n",
       "        <td>8.74</td>\n",
       "        <td>10.19</td>\n",
       "        <td>4.1</td>\n",
       "    </tr>\n",
       "    <tr>\n",
       "        <td>85</td>\n",
       "        <td>ja</td>\n",
       "        <td>Japan</td>\n",
       "        <td>377915</td>\n",
       "        <td>364485</td>\n",
       "        <td>13430</td>\n",
       "        <td>126919659</td>\n",
       "        <td>0.16</td>\n",
       "        <td>7.93</td>\n",
       "        <td>9.51</td>\n",
       "        <td>0.0</td>\n",
       "    </tr>\n",
       "    <tr>\n",
       "        <td>88</td>\n",
       "        <td>ke</td>\n",
       "        <td>Kenya</td>\n",
       "        <td>580367</td>\n",
       "        <td>569140</td>\n",
       "        <td>11227</td>\n",
       "        <td>45925301</td>\n",
       "        <td>1.93</td>\n",
       "        <td>26.4</td>\n",
       "        <td>6.89</td>\n",
       "        <td>0.22</td>\n",
       "    </tr>\n",
       "    <tr>\n",
       "        <td>91</td>\n",
       "        <td>ks</td>\n",
       "        <td>Korea, South</td>\n",
       "        <td>99720</td>\n",
       "        <td>96920</td>\n",
       "        <td>2800</td>\n",
       "        <td>49115196</td>\n",
       "        <td>0.14</td>\n",
       "        <td>8.19</td>\n",
       "        <td>6.75</td>\n",
       "        <td>0.0</td>\n",
       "    </tr>\n",
       "    <tr>\n",
       "        <td>114</td>\n",
       "        <td>mx</td>\n",
       "        <td>Mexico</td>\n",
       "        <td>1964375</td>\n",
       "        <td>1943945</td>\n",
       "        <td>20430</td>\n",
       "        <td>121736809</td>\n",
       "        <td>1.18</td>\n",
       "        <td>18.78</td>\n",
       "        <td>5.26</td>\n",
       "        <td>1.68</td>\n",
       "    </tr>\n",
       "    <tr>\n",
       "        <td>120</td>\n",
       "        <td>mo</td>\n",
       "        <td>Morocco</td>\n",
       "        <td>446550</td>\n",
       "        <td>446300</td>\n",
       "        <td>250</td>\n",
       "        <td>33322699</td>\n",
       "        <td>1.0</td>\n",
       "        <td>18.2</td>\n",
       "        <td>4.81</td>\n",
       "        <td>3.36</td>\n",
       "    </tr>\n",
       "    <tr>\n",
       "        <td>129</td>\n",
       "        <td>ni</td>\n",
       "        <td>Nigeria</td>\n",
       "        <td>923768</td>\n",
       "        <td>910768</td>\n",
       "        <td>13000</td>\n",
       "        <td>181562056</td>\n",
       "        <td>2.45</td>\n",
       "        <td>37.64</td>\n",
       "        <td>12.9</td>\n",
       "        <td>0.22</td>\n",
       "    </tr>\n",
       "    <tr>\n",
       "        <td>132</td>\n",
       "        <td>pk</td>\n",
       "        <td>Pakistan</td>\n",
       "        <td>796095</td>\n",
       "        <td>770875</td>\n",
       "        <td>25220</td>\n",
       "        <td>199085847</td>\n",
       "        <td>1.46</td>\n",
       "        <td>22.58</td>\n",
       "        <td>6.49</td>\n",
       "        <td>1.54</td>\n",
       "    </tr>\n",
       "    <tr>\n",
       "        <td>138</td>\n",
       "        <td>rp</td>\n",
       "        <td>Philippines</td>\n",
       "        <td>300000</td>\n",
       "        <td>298170</td>\n",
       "        <td>1830</td>\n",
       "        <td>100998376</td>\n",
       "        <td>1.61</td>\n",
       "        <td>24.27</td>\n",
       "        <td>6.11</td>\n",
       "        <td>2.09</td>\n",
       "    </tr>\n",
       "    <tr>\n",
       "        <td>139</td>\n",
       "        <td>pl</td>\n",
       "        <td>Poland</td>\n",
       "        <td>312685</td>\n",
       "        <td>304255</td>\n",
       "        <td>8430</td>\n",
       "        <td>38562189</td>\n",
       "        <td>0.09</td>\n",
       "        <td>9.74</td>\n",
       "        <td>10.19</td>\n",
       "        <td>0.46</td>\n",
       "    </tr>\n",
       "    <tr>\n",
       "        <td>143</td>\n",
       "        <td>rs</td>\n",
       "        <td>Russia</td>\n",
       "        <td>17098242</td>\n",
       "        <td>16377742</td>\n",
       "        <td>720500</td>\n",
       "        <td>142423773</td>\n",
       "        <td>0.04</td>\n",
       "        <td>11.6</td>\n",
       "        <td>13.69</td>\n",
       "        <td>1.69</td>\n",
       "    </tr>\n",
       "    <tr>\n",
       "        <td>161</td>\n",
       "        <td>sf</td>\n",
       "        <td>South Africa</td>\n",
       "        <td>1219090</td>\n",
       "        <td>1214470</td>\n",
       "        <td>4620</td>\n",
       "        <td>53675563</td>\n",
       "        <td>1.33</td>\n",
       "        <td>20.75</td>\n",
       "        <td>9.91</td>\n",
       "        <td>2.42</td>\n",
       "    </tr>\n",
       "    <tr>\n",
       "        <td>163</td>\n",
       "        <td>sp</td>\n",
       "        <td>Spain</td>\n",
       "        <td>505370</td>\n",
       "        <td>498980</td>\n",
       "        <td>6390</td>\n",
       "        <td>48146134</td>\n",
       "        <td>0.89</td>\n",
       "        <td>9.64</td>\n",
       "        <td>9.04</td>\n",
       "        <td>8.31</td>\n",
       "    </tr>\n",
       "    <tr>\n",
       "        <td>165</td>\n",
       "        <td>su</td>\n",
       "        <td>Sudan</td>\n",
       "        <td>1861484</td>\n",
       "        <td>None</td>\n",
       "        <td>None</td>\n",
       "        <td>36108853</td>\n",
       "        <td>1.72</td>\n",
       "        <td>29.19</td>\n",
       "        <td>7.66</td>\n",
       "        <td>4.29</td>\n",
       "    </tr>\n",
       "    <tr>\n",
       "        <td>172</td>\n",
       "        <td>tz</td>\n",
       "        <td>Tanzania</td>\n",
       "        <td>947300</td>\n",
       "        <td>885800</td>\n",
       "        <td>61500</td>\n",
       "        <td>51045882</td>\n",
       "        <td>2.79</td>\n",
       "        <td>36.39</td>\n",
       "        <td>8.0</td>\n",
       "        <td>0.54</td>\n",
       "    </tr>\n",
       "    <tr>\n",
       "        <td>173</td>\n",
       "        <td>th</td>\n",
       "        <td>Thailand</td>\n",
       "        <td>513120</td>\n",
       "        <td>510890</td>\n",
       "        <td>2230</td>\n",
       "        <td>67976405</td>\n",
       "        <td>0.34</td>\n",
       "        <td>11.19</td>\n",
       "        <td>7.8</td>\n",
       "        <td>0.0</td>\n",
       "    </tr>\n",
       "    <tr>\n",
       "        <td>179</td>\n",
       "        <td>tu</td>\n",
       "        <td>Turkey</td>\n",
       "        <td>783562</td>\n",
       "        <td>769632</td>\n",
       "        <td>13930</td>\n",
       "        <td>79414269</td>\n",
       "        <td>1.26</td>\n",
       "        <td>16.33</td>\n",
       "        <td>5.88</td>\n",
       "        <td>2.16</td>\n",
       "    </tr>\n",
       "    <tr>\n",
       "        <td>182</td>\n",
       "        <td>ug</td>\n",
       "        <td>Uganda</td>\n",
       "        <td>241038</td>\n",
       "        <td>197100</td>\n",
       "        <td>43938</td>\n",
       "        <td>37101745</td>\n",
       "        <td>3.24</td>\n",
       "        <td>43.79</td>\n",
       "        <td>10.69</td>\n",
       "        <td>0.74</td>\n",
       "    </tr>\n",
       "    <tr>\n",
       "        <td>183</td>\n",
       "        <td>up</td>\n",
       "        <td>Ukraine</td>\n",
       "        <td>603550</td>\n",
       "        <td>579330</td>\n",
       "        <td>24220</td>\n",
       "        <td>44429471</td>\n",
       "        <td>0.6</td>\n",
       "        <td>10.72</td>\n",
       "        <td>14.46</td>\n",
       "        <td>2.25</td>\n",
       "    </tr>\n",
       "    <tr>\n",
       "        <td>185</td>\n",
       "        <td>uk</td>\n",
       "        <td>United Kingdom</td>\n",
       "        <td>243610</td>\n",
       "        <td>241930</td>\n",
       "        <td>1680</td>\n",
       "        <td>64088222</td>\n",
       "        <td>0.54</td>\n",
       "        <td>12.17</td>\n",
       "        <td>9.35</td>\n",
       "        <td>2.54</td>\n",
       "    </tr>\n",
       "    <tr>\n",
       "        <td>186</td>\n",
       "        <td>us</td>\n",
       "        <td>United States</td>\n",
       "        <td>9826675</td>\n",
       "        <td>9161966</td>\n",
       "        <td>664709</td>\n",
       "        <td>321368864</td>\n",
       "        <td>0.78</td>\n",
       "        <td>12.49</td>\n",
       "        <td>8.15</td>\n",
       "        <td>3.86</td>\n",
       "    </tr>\n",
       "    <tr>\n",
       "        <td>192</td>\n",
       "        <td>vm</td>\n",
       "        <td>Vietnam</td>\n",
       "        <td>331210</td>\n",
       "        <td>310070</td>\n",
       "        <td>21140</td>\n",
       "        <td>94348835</td>\n",
       "        <td>0.97</td>\n",
       "        <td>15.96</td>\n",
       "        <td>5.93</td>\n",
       "        <td>0.3</td>\n",
       "    </tr>\n",
       "    <tr>\n",
       "        <td>197</td>\n",
       "        <td>ee</td>\n",
       "        <td>European Union</td>\n",
       "        <td>4324782</td>\n",
       "        <td>None</td>\n",
       "        <td>None</td>\n",
       "        <td>513949445</td>\n",
       "        <td>0.25</td>\n",
       "        <td>10.2</td>\n",
       "        <td>10.2</td>\n",
       "        <td>2.5</td>\n",
       "    </tr>\n",
       "    <tr>\n",
       "        <td>261</td>\n",
       "        <td>xx</td>\n",
       "        <td>World</td>\n",
       "        <td>None</td>\n",
       "        <td>None</td>\n",
       "        <td>None</td>\n",
       "        <td>7256490011</td>\n",
       "        <td>1.08</td>\n",
       "        <td>18.6</td>\n",
       "        <td>7.8</td>\n",
       "        <td>None</td>\n",
       "    </tr>\n",
       "</table>"
      ],
      "text/plain": [
       "[(1, 'af', 'Afghanistan', 652230, 652230, 0, 32564342, 2.32, 38.57, 13.89, 1.51),\n",
       " (3, 'ag', 'Algeria', 2381741, 2381741, 0, 39542166, 1.84, 23.67, 4.31, 0.92),\n",
       " (7, 'ar', 'Argentina', 2780400, 2736690, 43710, 43431886, 0.93, 16.64, 7.33, 0.0),\n",
       " (14, 'bg', 'Bangladesh', 148460, 130170, 18290, 168957745, 1.6, 21.14, 5.61, 0.46),\n",
       " (24, 'br', 'Brazil', 8515770, 8358140, 157630, 204259812, 0.77, 14.46, 6.58, 0.14),\n",
       " (28, 'bm', 'Burma', 676578, 653508, 23070, 56320206, 1.01, 18.39, 7.96, 0.28),\n",
       " (32, 'ca', 'Canada', 9984670, 9093507, 891163, 35099836, 0.75, 10.28, 8.42, 5.66),\n",
       " (37, 'ch', 'China', 9596960, 9326410, 270550, 1367485388, 0.45, 12.49, 7.53, 0.44),\n",
       " (38, 'co', 'Colombia', 1138910, 1038700, 100210, 46736728, 1.04, 16.47, 5.4, 0.64),\n",
       " (40, 'cg', 'Congo, Democratic Republic of the', 2344858, 2267048, 77810, 79375136, 2.45, 34.88, 10.07, 0.27),\n",
       " (53, 'eg', 'Egypt', 1001450, 995450, 6000, 88487396, 1.79, 22.9, 4.77, 0.19),\n",
       " (58, 'et', 'Ethiopia', 1104300, None, 104300, 99465819, 2.89, 37.27, 8.19, 0.22),\n",
       " (61, 'fr', 'France', 643801, 640427, 3374, 66553766, 0.43, 12.38, 9.16, 1.09),\n",
       " (65, 'gm', 'Germany', 357022, 348672, 8350, 80854408, 0.17, 8.47, 11.42, 1.24),\n",
       " (77, 'in', 'India', 3287263, 2973193, 314070, 1251695584, 1.22, 19.55, 7.32, 0.04),\n",
       " (78, 'id', 'Indonesia', 1904569, 1811569, 93000, 255993674, 0.92, 16.72, 6.37, 1.16),\n",
       " (79, 'ir', 'Iran', 1648195, 1531595, 116600, 81824270, 1.2, 17.99, 5.94, 0.07),\n",
       " (80, 'iz', 'Iraq', 438317, 437367, 950, 37056169, 2.93, 31.45, 3.77, 1.62),\n",
       " (83, 'it', 'Italy', 301340, 294140, 7200, 61855120, 0.27, 8.74, 10.19, 4.1),\n",
       " (85, 'ja', 'Japan', 377915, 364485, 13430, 126919659, 0.16, 7.93, 9.51, 0.0),\n",
       " (88, 'ke', 'Kenya', 580367, 569140, 11227, 45925301, 1.93, 26.4, 6.89, 0.22),\n",
       " (91, 'ks', 'Korea, South', 99720, 96920, 2800, 49115196, 0.14, 8.19, 6.75, 0.0),\n",
       " (114, 'mx', 'Mexico', 1964375, 1943945, 20430, 121736809, 1.18, 18.78, 5.26, 1.68),\n",
       " (120, 'mo', 'Morocco', 446550, 446300, 250, 33322699, 1.0, 18.2, 4.81, 3.36),\n",
       " (129, 'ni', 'Nigeria', 923768, 910768, 13000, 181562056, 2.45, 37.64, 12.9, 0.22),\n",
       " (132, 'pk', 'Pakistan', 796095, 770875, 25220, 199085847, 1.46, 22.58, 6.49, 1.54),\n",
       " (138, 'rp', 'Philippines', 300000, 298170, 1830, 100998376, 1.61, 24.27, 6.11, 2.09),\n",
       " (139, 'pl', 'Poland', 312685, 304255, 8430, 38562189, 0.09, 9.74, 10.19, 0.46),\n",
       " (143, 'rs', 'Russia', 17098242, 16377742, 720500, 142423773, 0.04, 11.6, 13.69, 1.69),\n",
       " (161, 'sf', 'South Africa', 1219090, 1214470, 4620, 53675563, 1.33, 20.75, 9.91, 2.42),\n",
       " (163, 'sp', 'Spain', 505370, 498980, 6390, 48146134, 0.89, 9.64, 9.04, 8.31),\n",
       " (165, 'su', 'Sudan', 1861484, None, None, 36108853, 1.72, 29.19, 7.66, 4.29),\n",
       " (172, 'tz', 'Tanzania', 947300, 885800, 61500, 51045882, 2.79, 36.39, 8.0, 0.54),\n",
       " (173, 'th', 'Thailand', 513120, 510890, 2230, 67976405, 0.34, 11.19, 7.8, 0.0),\n",
       " (179, 'tu', 'Turkey', 783562, 769632, 13930, 79414269, 1.26, 16.33, 5.88, 2.16),\n",
       " (182, 'ug', 'Uganda', 241038, 197100, 43938, 37101745, 3.24, 43.79, 10.69, 0.74),\n",
       " (183, 'up', 'Ukraine', 603550, 579330, 24220, 44429471, 0.6, 10.72, 14.46, 2.25),\n",
       " (185, 'uk', 'United Kingdom', 243610, 241930, 1680, 64088222, 0.54, 12.17, 9.35, 2.54),\n",
       " (186, 'us', 'United States', 9826675, 9161966, 664709, 321368864, 0.78, 12.49, 8.15, 3.86),\n",
       " (192, 'vm', 'Vietnam', 331210, 310070, 21140, 94348835, 0.97, 15.96, 5.93, 0.3),\n",
       " (197, 'ee', 'European Union', 4324782, None, None, 513949445, 0.25, 10.2, 10.2, 2.5),\n",
       " (261, 'xx', 'World', None, None, None, 7256490011, 1.08, 18.6, 7.8, None)]"
      ]
     },
     "execution_count": 10,
     "metadata": {},
     "output_type": "execute_result"
    }
   ],
   "source": [
    "%%sql\n",
    "SELECT *\n",
    "    FROM facts\n",
    "    WHERE population > (SELECT AVG(population)\n",
    "                            FROM facts  WHERE name <> 'World'\n",
    "                    )"
   ]
  },
  {
   "cell_type": "code",
   "execution_count": null,
   "metadata": {
    "collapsed": true
   },
   "outputs": [],
   "source": []
  }
 ],
 "metadata": {
  "kernelspec": {
   "display_name": "Python 3",
   "language": "python",
   "name": "python3"
  },
  "language_info": {
   "codemirror_mode": {
    "name": "ipython",
    "version": 3
   },
   "file_extension": ".py",
   "mimetype": "text/x-python",
   "name": "python",
   "nbconvert_exporter": "python",
   "pygments_lexer": "ipython3",
   "version": "3.4.3"
  }
 },
 "nbformat": 4,
 "nbformat_minor": 2
}

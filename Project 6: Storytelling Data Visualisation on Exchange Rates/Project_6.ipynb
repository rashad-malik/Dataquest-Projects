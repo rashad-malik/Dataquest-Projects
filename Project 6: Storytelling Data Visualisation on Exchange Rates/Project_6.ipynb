{
 "cells": [
  {
   "cell_type": "markdown",
   "metadata": {},
   "source": [
    "# Guided Project: Storytelling Data Visualization on Exchange Rates"
   ]
  },
  {
   "cell_type": "markdown",
   "metadata": {},
   "source": [
    "The dataset I'll be using describes Euro daily exchange rates between 1999 and 2021. The euro (symbolized with €) is the official currency in most of the countries of the European Union.\n",
    "\n",
    "[Daria Chemkaeva](https://www.kaggle.com/lsind18) put together the data set and made it available on [Kaggle](https://www.kaggle.com/datasets/lsind18/euro-exchange-daily-rates-19992020) — the data source is the European Central Bank.\n",
    "\n",
    "*Note that the dataset gets regular updates — dataquest downloaded this dataset on January 2021.*"
   ]
  },
  {
   "cell_type": "code",
   "execution_count": 1,
   "metadata": {},
   "outputs": [],
   "source": [
    "# Reading in the data set\n",
    "import pandas as pd\n",
    "exchange_rates = pd.read_csv(\"euro-daily-hist_1999_2020.csv\")"
   ]
  },
  {
   "cell_type": "code",
   "execution_count": 2,
   "metadata": {},
   "outputs": [
    {
     "name": "stdout",
     "output_type": "stream",
     "text": [
      "  Period\\Unit: [Australian dollar ] [Bulgarian lev ] [Brazilian real ]  \\\n",
      "0   2021-01-08               1.5758           1.9558            6.5748   \n",
      "1   2021-01-07               1.5836           1.9558            6.5172   \n",
      "2   2021-01-06               1.5824           1.9558            6.5119   \n",
      "3   2021-01-05               1.5927           1.9558            6.5517   \n",
      "4   2021-01-04               1.5928           1.9558            6.3241   \n",
      "\n",
      "  [Canadian dollar ] [Swiss franc ] [Chinese yuan renminbi ] [Cypriot pound ]  \\\n",
      "0             1.5543         1.0827                   7.9184              NaN   \n",
      "1             1.5601         1.0833                   7.9392              NaN   \n",
      "2             1.5640         1.0821                   7.9653              NaN   \n",
      "3             1.5651         1.0803                   7.9315              NaN   \n",
      "4             1.5621         1.0811                   7.9484              NaN   \n",
      "\n",
      "  [Czech koruna ] [Danish krone ]  ... [Romanian leu ] [Russian rouble ]  \\\n",
      "0          26.163          7.4369  ...          4.8708           90.8000   \n",
      "1          26.147          7.4392  ...          4.8712           91.2000   \n",
      "2          26.145          7.4393  ...          4.8720           90.8175   \n",
      "3          26.227          7.4387  ...          4.8721           91.6715   \n",
      "4          26.141          7.4379  ...          4.8713           90.3420   \n",
      "\n",
      "  [Swedish krona ] [Singapore dollar ] [Slovenian tolar ] [Slovak koruna ]  \\\n",
      "0          10.0510              1.6228                NaN              NaN   \n",
      "1          10.0575              1.6253                NaN              NaN   \n",
      "2          10.0653              1.6246                NaN              NaN   \n",
      "3          10.0570              1.6180                NaN              NaN   \n",
      "4          10.0895              1.6198                NaN              NaN   \n",
      "\n",
      "  [Thai baht ] [Turkish lira ] [US dollar ]  [South African rand ]  \n",
      "0      36.8480          9.0146       1.2250                18.7212  \n",
      "1      36.8590          8.9987       1.2276                18.7919  \n",
      "2      36.9210          9.0554       1.2338                18.5123  \n",
      "3      36.7760          9.0694       1.2271                18.4194  \n",
      "4      36.7280          9.0579       1.2296                17.9214  \n",
      "\n",
      "[5 rows x 41 columns]\n"
     ]
    }
   ],
   "source": [
    "# Inspecting first 5 rows of dataset\n",
    "print(exchange_rates.head())"
   ]
  },
  {
   "cell_type": "code",
   "execution_count": 3,
   "metadata": {},
   "outputs": [
    {
     "name": "stdout",
     "output_type": "stream",
     "text": [
      "     Period\\Unit: [Australian dollar ] [Bulgarian lev ] [Brazilian real ]  \\\n",
      "5694   1999-01-08               1.8406              NaN               NaN   \n",
      "5695   1999-01-07               1.8474              NaN               NaN   \n",
      "5696   1999-01-06               1.8820              NaN               NaN   \n",
      "5697   1999-01-05               1.8944              NaN               NaN   \n",
      "5698   1999-01-04               1.9100              NaN               NaN   \n",
      "\n",
      "     [Canadian dollar ] [Swiss franc ] [Chinese yuan renminbi ]  \\\n",
      "5694             1.7643         1.6138                      NaN   \n",
      "5695             1.7602         1.6165                      NaN   \n",
      "5696             1.7711         1.6116                      NaN   \n",
      "5697             1.7965         1.6123                      NaN   \n",
      "5698             1.8004         1.6168                      NaN   \n",
      "\n",
      "     [Cypriot pound ] [Czech koruna ] [Danish krone ]  ... [Romanian leu ]  \\\n",
      "5694          0.58187          34.938          7.4433  ...          1.3143   \n",
      "5695          0.58187          34.886          7.4431  ...          1.3092   \n",
      "5696          0.58200          34.850          7.4452  ...          1.3168   \n",
      "5697          0.58230          34.917          7.4495  ...          1.3168   \n",
      "5698          0.58231          35.107          7.4501  ...          1.3111   \n",
      "\n",
      "     [Russian rouble ] [Swedish krona ] [Singapore dollar ]  \\\n",
      "5694           27.2075           9.1650              1.9537   \n",
      "5695           26.9876           9.1800              1.9436   \n",
      "5696           27.4315           9.3050              1.9699   \n",
      "5697           26.5876           9.4025              1.9655   \n",
      "5698           25.2875           9.4696              1.9554   \n",
      "\n",
      "     [Slovenian tolar ] [Slovak koruna ] [Thai baht ] [Turkish lira ]  \\\n",
      "5694           188.8400           42.560      42.5590          0.3718   \n",
      "5695           188.8000           42.765      42.1678          0.3701   \n",
      "5696           188.7000           42.778      42.6949          0.3722   \n",
      "5697           188.7750           42.848      42.5048          0.3728   \n",
      "5698           189.0450           42.991      42.6799          0.3723   \n",
      "\n",
      "     [US dollar ]  [South African rand ]  \n",
      "5694       1.1659                 6.7855  \n",
      "5695       1.1632                 6.8283  \n",
      "5696       1.1743                 6.7307  \n",
      "5697       1.1790                 6.7975  \n",
      "5698       1.1789                 6.9358  \n",
      "\n",
      "[5 rows x 41 columns]\n"
     ]
    }
   ],
   "source": [
    "# Inspecting last 5 rows of dataset\n",
    "print(exchange_rates.tail())"
   ]
  },
  {
   "cell_type": "code",
   "execution_count": 4,
   "metadata": {},
   "outputs": [
    {
     "name": "stdout",
     "output_type": "stream",
     "text": [
      "<class 'pandas.core.frame.DataFrame'>\n",
      "RangeIndex: 5699 entries, 0 to 5698\n",
      "Data columns (total 41 columns):\n",
      " #   Column                    Non-Null Count  Dtype  \n",
      "---  ------                    --------------  -----  \n",
      " 0   Period\\Unit:              5699 non-null   object \n",
      " 1   [Australian dollar ]      5699 non-null   object \n",
      " 2   [Bulgarian lev ]          5297 non-null   object \n",
      " 3   [Brazilian real ]         5431 non-null   object \n",
      " 4   [Canadian dollar ]        5699 non-null   object \n",
      " 5   [Swiss franc ]            5699 non-null   object \n",
      " 6   [Chinese yuan renminbi ]  5431 non-null   object \n",
      " 7   [Cypriot pound ]          2346 non-null   object \n",
      " 8   [Czech koruna ]           5699 non-null   object \n",
      " 9   [Danish krone ]           5699 non-null   object \n",
      " 10  [Estonian kroon ]         3130 non-null   object \n",
      " 11  [UK pound sterling ]      5699 non-null   object \n",
      " 12  [Greek drachma ]          520 non-null    object \n",
      " 13  [Hong Kong dollar ]       5699 non-null   object \n",
      " 14  [Croatian kuna ]          5431 non-null   object \n",
      " 15  [Hungarian forint ]       5699 non-null   object \n",
      " 16  [Indonesian rupiah ]      5699 non-null   object \n",
      " 17  [Israeli shekel ]         5431 non-null   object \n",
      " 18  [Indian rupee ]           5431 non-null   object \n",
      " 19  [Iceland krona ]          3292 non-null   float64\n",
      " 20  [Japanese yen ]           5699 non-null   object \n",
      " 21  [Korean won ]             5699 non-null   object \n",
      " 22  [Lithuanian litas ]       4159 non-null   object \n",
      " 23  [Latvian lats ]           3904 non-null   object \n",
      " 24  [Maltese lira ]           2346 non-null   object \n",
      " 25  [Mexican peso ]           5699 non-null   object \n",
      " 26  [Malaysian ringgit ]      5699 non-null   object \n",
      " 27  [Norwegian krone ]        5699 non-null   object \n",
      " 28  [New Zealand dollar ]     5699 non-null   object \n",
      " 29  [Philippine peso ]        5699 non-null   object \n",
      " 30  [Polish zloty ]           5699 non-null   object \n",
      " 31  [Romanian leu ]           5637 non-null   float64\n",
      " 32  [Russian rouble ]         5699 non-null   object \n",
      " 33  [Swedish krona ]          5699 non-null   object \n",
      " 34  [Singapore dollar ]       5699 non-null   object \n",
      " 35  [Slovenian tolar ]        2085 non-null   object \n",
      " 36  [Slovak koruna ]          2608 non-null   object \n",
      " 37  [Thai baht ]              5699 non-null   object \n",
      " 38  [Turkish lira ]           5637 non-null   float64\n",
      " 39  [US dollar ]              5699 non-null   object \n",
      " 40  [South African rand ]     5699 non-null   object \n",
      "dtypes: float64(3), object(38)\n",
      "memory usage: 1.8+ MB\n"
     ]
    }
   ],
   "source": [
    "# Checking basic facts about the dataset\n",
    "exchange_rates.info()"
   ]
  },
  {
   "cell_type": "markdown",
   "metadata": {},
   "source": [
    "Reading the above, we can observe the following:\n",
    "- There are 41 columns\n",
    "- Some columns do contain null-values (e.g. Greek Drachma only has 520 entries compated to 5699 for most currencies)\n",
    "- Most columns are an \"object\" data type, while some are \"floats\""
   ]
  },
  {
   "cell_type": "markdown",
   "metadata": {},
   "source": [
    "## Data Cleaning"
   ]
  },
  {
   "cell_type": "markdown",
   "metadata": {},
   "source": [
    "Before we start creating data visualizations, we'll need to do a bit of data cleaning:\n",
    "\n",
    "- We rename the \"[US dollar ]\" and \"Period\\Unit:\" columns to something easier to type — \"US_dollar\" and \"Time\".\n",
    "- We change the Time column to a datetime data type.\n",
    "- We sort the values by Time in ascending order.\n",
    "- We reset the index (and drop the initial index)."
   ]
  },
  {
   "cell_type": "code",
   "execution_count": 5,
   "metadata": {},
   "outputs": [],
   "source": [
    "# Renaming columns\n",
    "exchange_rates.rename(columns={'[US dollar ]': 'US_dollar',\n",
    "                               'Period\\\\Unit:': 'Time'},\n",
    "                      inplace=True)\n",
    "\n",
    "# Converting time column to datetime type\n",
    "exchange_rates['Time'] = pd.to_datetime(exchange_rates['Time'])\n",
    "\n",
    "# Sorting values and resetting index\n",
    "exchange_rates.sort_values('Time', inplace=True)\n",
    "exchange_rates.reset_index(drop=True, inplace=True)"
   ]
  },
  {
   "cell_type": "code",
   "execution_count": 6,
   "metadata": {},
   "outputs": [],
   "source": [
    "#Isolating Time and US_dollar columns\n",
    "euro_to_dollar = pd.DataFrame().assign(Time=exchange_rates['Time'], US_dollar=exchange_rates['US_dollar'])"
   ]
  },
  {
   "cell_type": "code",
   "execution_count": 7,
   "metadata": {},
   "outputs": [
    {
     "name": "stdout",
     "output_type": "stream",
     "text": [
      "-         62\n",
      "1.2276     9\n",
      "1.1215     8\n",
      "1.1305     7\n",
      "1.1797     6\n",
      "          ..\n",
      "1.2184     1\n",
      "1.1421     1\n",
      "1.4966     1\n",
      "1.1919     1\n",
      "1.4738     1\n",
      "Name: US_dollar, Length: 3528, dtype: int64\n"
     ]
    }
   ],
   "source": [
    "# Running Series.value_counts() to check if anything is wrong\n",
    "print(euro_to_dollar[\"US_dollar\"].value_counts())"
   ]
  },
  {
   "cell_type": "markdown",
   "metadata": {},
   "source": [
    "We can see that there are 62 entries with a \"-\" character."
   ]
  },
  {
   "cell_type": "code",
   "execution_count": 8,
   "metadata": {},
   "outputs": [],
   "source": [
    "# Replacing \"-\" character with \"\"\n",
    "euro_to_dollar[\"US_dollar\"] = euro_to_dollar[\"US_dollar\"].str.replace(\"-\",\"\")\n",
    "\n",
    "# Dropping empty rows \n",
    "filter = euro_to_dollar[\"US_dollar\"] != \"\"\n",
    "euro_to_dollar = euro_to_dollar[filter]\n",
    "\n",
    "# Converting column to float\n",
    "euro_to_dollar['US_dollar'] = euro_to_dollar['US_dollar'].astype(float)"
   ]
  },
  {
   "cell_type": "markdown",
   "metadata": {},
   "source": [
    "## Rolling Mean"
   ]
  },
  {
   "cell_type": "code",
   "execution_count": 9,
   "metadata": {},
   "outputs": [],
   "source": [
    "# Calculating the rolling means for US_dollar\n",
    "euro_to_dollar['rolling_mean'] = euro_to_dollar['US_dollar'].rolling(30).mean()"
   ]
  },
  {
   "cell_type": "markdown",
   "metadata": {},
   "source": [
    "## Coming up with an Idea"
   ]
  },
  {
   "cell_type": "markdown",
   "metadata": {},
   "source": [
    "Example ideas for data analysis:\n",
    "- We show how the euro-dollar rate has changed during the coronavirus pandemic. We can show the 2020 data and the 2016-2019 data as a baseline. We can use a line plot.\n",
    "- We show how the euro-dollar rate changed during the 2007-2008 financial crisis. We can also show the data for 2006 and 2009 for comparison. We can use a line plot.\n",
    "- We show comparatively how the euro-dollar rate changed under the last three US presidents (George W. Bush (2001-2009), Barack Obama (2009-2017), and Donald Trump (2017-2021)). We can use a line plot."
   ]
  },
  {
   "cell_type": "markdown",
   "metadata": {},
   "source": [
    "I will analyse how the euro-dollar rate had changed during the [Annexation of Crimea by the Russian Federation in 2014](https://en.wikipedia.org/wiki/Annexation_of_Crimea_by_the_Russian_Federation). I will use data from 2011-2013 as a baseline, and will use a line plot."
   ]
  },
  {
   "cell_type": "markdown",
   "metadata": {},
   "source": [
    "This line plot will start at the beginning of 2012, and go through to the end of 2015. The duration of annexation event will be highlighted, and the exchange rate line after the start of the event will be a different colour."
   ]
  },
  {
   "cell_type": "markdown",
   "metadata": {},
   "source": [
    "## Coding the Graph"
   ]
  },
  {
   "cell_type": "code",
   "execution_count": 42,
   "metadata": {},
   "outputs": [],
   "source": [
    "# Importing matplotlib\n",
    "import matplotlib.pyplot as plt\n",
    "import matplotlib.style as style\n",
    "import matplotlib.dates as mdates\n",
    "import datetime as dt\n",
    "\n",
    "# Code to prevent error within Dataquest environment\n",
    "%matplotlib inline"
   ]
  },
  {
   "cell_type": "code",
   "execution_count": 11,
   "metadata": {},
   "outputs": [],
   "source": [
    "# Splitting the dataset\n",
    "euro_to_dollar_bol1 = (euro_to_dollar['Time'] >= \"2012-01-01\") & (euro_to_dollar['Time'] <= \"2014-02-19\")\n",
    "euro_to_dollar_select1 = euro_to_dollar[euro_to_dollar_bol1]\n",
    "\n",
    "euro_to_dollar_bol2 = (euro_to_dollar['Time'] > \"2014-02-19\") & (euro_to_dollar['Time'] <= \"2015-12-31\")\n",
    "euro_to_dollar_select2 = euro_to_dollar[euro_to_dollar_bol2]"
   ]
  },
  {
   "cell_type": "code",
   "execution_count": 12,
   "metadata": {},
   "outputs": [
    {
     "name": "stdout",
     "output_type": "stream",
     "text": [
      "           Time  US_dollar  rolling_mean\n",
      "3390 2012-01-02     1.2935      1.322597\n",
      "3391 2012-01-03     1.3014      1.321117\n",
      "3392 2012-01-04     1.2948      1.319160\n",
      "3393 2012-01-05     1.2832      1.317310\n",
      "3394 2012-01-06     1.2776      1.315320\n",
      "           Time  US_dollar  rolling_mean\n",
      "3934 2014-02-13     1.3675      1.359860\n",
      "3935 2014-02-14     1.3707      1.360103\n",
      "3936 2014-02-17     1.3699      1.360427\n",
      "3937 2014-02-18     1.3731      1.360727\n",
      "3938 2014-02-19     1.3745      1.361230\n",
      "           Time  US_dollar  rolling_mean\n",
      "3939 2014-02-20     1.3706      1.361543\n",
      "3940 2014-02-21     1.3707      1.361943\n",
      "3941 2014-02-24     1.3735      1.362213\n",
      "3942 2014-02-25     1.3754      1.362503\n",
      "3943 2014-02-26     1.3726      1.362903\n",
      "           Time  US_dollar  rolling_mean\n",
      "4410 2015-12-24     1.0947      1.078027\n",
      "4411 2015-12-28     1.0962      1.078687\n",
      "4412 2015-12-29     1.0952      1.079450\n",
      "4413 2015-12-30     1.0926      1.080303\n",
      "4414 2015-12-31     1.0887      1.081040\n"
     ]
    }
   ],
   "source": [
    "# Checking selections\n",
    "print(euro_to_dollar_select1.head())\n",
    "print(euro_to_dollar_select1.tail())\n",
    "print(euro_to_dollar_select2.head())\n",
    "print(euro_to_dollar_select2.tail())"
   ]
  },
  {
   "cell_type": "markdown",
   "metadata": {},
   "source": [
    "From the check above, we can see that the code has correctly selected the relevant data."
   ]
  },
  {
   "cell_type": "code",
   "execution_count": 70,
   "metadata": {},
   "outputs": [
    {
     "data": {
      "image/png": "[encoded data removed]",
      "text/plain": [
       "<Figure size 900x500 with 1 Axes>"
      ]
     },
     "metadata": {},
     "output_type": "display_data"
    }
   ],
   "source": [
    "# Constructing the graph\n",
    "\n",
    "# Applying the FiveThirtyEight style\n",
    "style.use('fivethirtyeight')\n",
    "\n",
    "# Adjusting plot size\n",
    "fig, ax = plt.subplots(figsize=(9, 5))\n",
    "\n",
    "# Adjusting the x-ticks\n",
    "ax.xaxis.set_major_locator(mdates.YearLocator(1))\n",
    "\n",
    "# Adjusting y-limit\n",
    "plt.ylim(1.04,1.4)\n",
    "\n",
    "# Adding title and subtitle\n",
    "plt.text(-0.08, 1.18, 'Euro To Dollar Exchange Rate Over Time',\n",
    "         weight=\"bold\", size=20,\n",
    "         ha='left', va='top', transform=ax.transAxes)\n",
    "\n",
    "plt.text(-0.08, 1.10, 'Analysing change in exchange rate during the annexation of Crimea by the Russian Federation in 2014',\n",
    "         #weight=\"bold\",\n",
    "         size=11, ha='left', va='top', transform=ax.transAxes)\n",
    "\n",
    "# Highlighting Russian invasion window\n",
    "ax.axvspan(dt.datetime(2014, 2, 20), dt.datetime(2014, 3, 26),\n",
    "           color='grey', alpha=0.5)\n",
    "\n",
    "plt.text(0.45, 1.03, 'Russian Invasion Window',\n",
    "         weight=\"bold\",\n",
    "         size=8, color=\"grey\", ha='left', va='top', transform=ax.transAxes)\n",
    "\n",
    "# Adding signature\n",
    "ax.text(-0.08, -0.09, 'R.MALIK'+' '*67+'Source: European Central Bank',\n",
    "        color='#f0f0f0', backgroundcolor='#4d4d4d', size=15,\n",
    "        ha='left', va='top', transform=ax.transAxes)\n",
    "\n",
    "# Plotting lines\n",
    "plt.plot(euro_to_dollar_select1[\"Time\"], euro_to_dollar_select1[\"rolling_mean\"],\n",
    "        color='#3B9739', linewidth=2.5)\n",
    "\n",
    "plt.plot(euro_to_dollar_select2[\"Time\"], euro_to_dollar_select2[\"rolling_mean\"],\n",
    "        color='#af0b1e', linewidth=2.5)\n",
    "plt.show()"
   ]
  },
  {
   "cell_type": "markdown",
   "metadata": {},
   "source": [
    "From analysing the above data, we can see that the Euro to Dollar exchange rate increases during the invastion, peaks slightly during the following months, then drops substantially.\n",
    "\n",
    "This could be due to multiple factors. As the invasion commenced, the Euro would have weakened due to instability in Europe. Following the conclusion of the invasion, and due to the oil crisis of 2014, the Dollar then proceeded to crash."
   ]
  }
 ],
 "metadata": {
  "kernelspec": {
   "display_name": "Python 3",
   "language": "python",
   "name": "python3"
  },
  "language_info": {
   "codemirror_mode": {
    "name": "ipython",
    "version": 3
   },
   "file_extension": ".py",
   "mimetype": "text/x-python",
   "name": "python",
   "nbconvert_exporter": "python",
   "pygments_lexer": "ipython3",
   "version": "3.8.2"
  }
 },
 "nbformat": 4,
 "nbformat_minor": 4
}
